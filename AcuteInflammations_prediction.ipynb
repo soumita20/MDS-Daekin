{
  "nbformat": 4,
  "nbformat_minor": 0,
  "metadata": {
    "colab": {
      "provenance": [],
      "authorship_tag": "ABX9TyM/WzScygwg83GqjWphQFZ2",
      "include_colab_link": true
    },
    "kernelspec": {
      "name": "python3",
      "display_name": "Python 3"
    },
    "language_info": {
      "name": "python"
    },
    "gpuClass": "standard"
  },
  "cells": [
    {
      "cell_type": "markdown",
      "metadata": {
        "id": "view-in-github",
        "colab_type": "text"
      },
      "source": [
        "<a href=\"https://colab.research.google.com/github/soumita20/MDS-Daekin/blob/main/AcuteInflammations_prediction.ipynb\" target=\"_parent\"><img src=\"https://colab.research.google.com/assets/colab-badge.svg\" alt=\"Open In Colab\"/></a>"
      ]
    },
    {
      "cell_type": "markdown",
      "source": [
        "Let us first download all necessary libraries"
      ],
      "metadata": {
        "id": "IGUUCag6VGvI"
      }
    },
    {
      "cell_type": "code",
      "execution_count": 4,
      "metadata": {
        "id": "8vrux7yOLXvA"
      },
      "outputs": [],
      "source": [
        "import numpy as np\n",
        "import pandas as pd\n",
        "import matplotlib.pyplot as plt\n",
        "%matplotlib inline\n",
        "import seaborn as sns\n",
        "\n",
        "from sklearn.model_selection import train_test_split\n",
        "from sklearn.tree import DecisionTreeClassifier\n",
        "from sklearn.ensemble import RandomForestClassifier\n",
        "from sklearn.metrics import (\n",
        "    accuracy_score,\n",
        "    classification_report,\n",
        "    confusion_matrix,\n",
        "    f1_score,\n",
        "    mean_squared_error,\n",
        "    precision_score,\n",
        "    recall_score,\n",
        ")"
      ]
    },
    {
      "cell_type": "markdown",
      "source": [
        "Now, we will read the inflammation data into a dataset \"inflammations_df\". Since the dataset does not have headers, we will set header=None while reading the dataset so that headers are auto assigned"
      ],
      "metadata": {
        "id": "GlfMIrPLVNYv"
      }
    },
    {
      "cell_type": "code",
      "source": [
        "#Setting column names for the data since headers are not present\n",
        "col_names = [\"temperature\",\"HasNausea\",\"HasLumbarPain\",\"HasContinuousUrgeToUrinate\",\"HasMicturitionPain\",\"HasDiscomfortInUrethra\",\"BladderInflammation\",\"HasNephritises\"]"
      ],
      "metadata": {
        "id": "i7A8-4tnrav1"
      },
      "execution_count": 5,
      "outputs": []
    },
    {
      "cell_type": "code",
      "source": [
        "inflammations_df = pd.read_csv(\"/content/diagnosis.data\",  encoding = 'utf-16', sep=\"\\t\", names = col_names)\n",
        "inflammations_df.head()"
      ],
      "metadata": {
        "colab": {
          "base_uri": "https://localhost:8080/",
          "height": 270
        },
        "id": "XZBJfIiLMCrB",
        "outputId": "26e341b4-bed3-4709-ace5-56c1dcd3f7d2"
      },
      "execution_count": 6,
      "outputs": [
        {
          "output_type": "execute_result",
          "data": {
            "text/plain": [
              "  temperature HasNausea HasLumbarPain HasContinuousUrgeToUrinate  \\\n",
              "0        35,5        no           yes                         no   \n",
              "1        35,9        no            no                        yes   \n",
              "2        35,9        no           yes                         no   \n",
              "3        36,0        no            no                        yes   \n",
              "4        36,0        no           yes                         no   \n",
              "\n",
              "  HasMicturitionPain HasDiscomfortInUrethra BladderInflammation HasNephritises  \n",
              "0                 no                     no                  no             no  \n",
              "1                yes                    yes                 yes             no  \n",
              "2                 no                     no                  no             no  \n",
              "3                yes                    yes                 yes             no  \n",
              "4                 no                     no                  no             no  "
            ],
            "text/html": [
              "\n",
              "  <div id=\"df-79aa9ff3-8463-4a51-9fef-b843417298f2\">\n",
              "    <div class=\"colab-df-container\">\n",
              "      <div>\n",
              "<style scoped>\n",
              "    .dataframe tbody tr th:only-of-type {\n",
              "        vertical-align: middle;\n",
              "    }\n",
              "\n",
              "    .dataframe tbody tr th {\n",
              "        vertical-align: top;\n",
              "    }\n",
              "\n",
              "    .dataframe thead th {\n",
              "        text-align: right;\n",
              "    }\n",
              "</style>\n",
              "<table border=\"1\" class=\"dataframe\">\n",
              "  <thead>\n",
              "    <tr style=\"text-align: right;\">\n",
              "      <th></th>\n",
              "      <th>temperature</th>\n",
              "      <th>HasNausea</th>\n",
              "      <th>HasLumbarPain</th>\n",
              "      <th>HasContinuousUrgeToUrinate</th>\n",
              "      <th>HasMicturitionPain</th>\n",
              "      <th>HasDiscomfortInUrethra</th>\n",
              "      <th>BladderInflammation</th>\n",
              "      <th>HasNephritises</th>\n",
              "    </tr>\n",
              "  </thead>\n",
              "  <tbody>\n",
              "    <tr>\n",
              "      <th>0</th>\n",
              "      <td>35,5</td>\n",
              "      <td>no</td>\n",
              "      <td>yes</td>\n",
              "      <td>no</td>\n",
              "      <td>no</td>\n",
              "      <td>no</td>\n",
              "      <td>no</td>\n",
              "      <td>no</td>\n",
              "    </tr>\n",
              "    <tr>\n",
              "      <th>1</th>\n",
              "      <td>35,9</td>\n",
              "      <td>no</td>\n",
              "      <td>no</td>\n",
              "      <td>yes</td>\n",
              "      <td>yes</td>\n",
              "      <td>yes</td>\n",
              "      <td>yes</td>\n",
              "      <td>no</td>\n",
              "    </tr>\n",
              "    <tr>\n",
              "      <th>2</th>\n",
              "      <td>35,9</td>\n",
              "      <td>no</td>\n",
              "      <td>yes</td>\n",
              "      <td>no</td>\n",
              "      <td>no</td>\n",
              "      <td>no</td>\n",
              "      <td>no</td>\n",
              "      <td>no</td>\n",
              "    </tr>\n",
              "    <tr>\n",
              "      <th>3</th>\n",
              "      <td>36,0</td>\n",
              "      <td>no</td>\n",
              "      <td>no</td>\n",
              "      <td>yes</td>\n",
              "      <td>yes</td>\n",
              "      <td>yes</td>\n",
              "      <td>yes</td>\n",
              "      <td>no</td>\n",
              "    </tr>\n",
              "    <tr>\n",
              "      <th>4</th>\n",
              "      <td>36,0</td>\n",
              "      <td>no</td>\n",
              "      <td>yes</td>\n",
              "      <td>no</td>\n",
              "      <td>no</td>\n",
              "      <td>no</td>\n",
              "      <td>no</td>\n",
              "      <td>no</td>\n",
              "    </tr>\n",
              "  </tbody>\n",
              "</table>\n",
              "</div>\n",
              "      <button class=\"colab-df-convert\" onclick=\"convertToInteractive('df-79aa9ff3-8463-4a51-9fef-b843417298f2')\"\n",
              "              title=\"Convert this dataframe to an interactive table.\"\n",
              "              style=\"display:none;\">\n",
              "        \n",
              "  <svg xmlns=\"http://www.w3.org/2000/svg\" height=\"24px\"viewBox=\"0 0 24 24\"\n",
              "       width=\"24px\">\n",
              "    <path d=\"M0 0h24v24H0V0z\" fill=\"none\"/>\n",
              "    <path d=\"M18.56 5.44l.94 2.06.94-2.06 2.06-.94-2.06-.94-.94-2.06-.94 2.06-2.06.94zm-11 1L8.5 8.5l.94-2.06 2.06-.94-2.06-.94L8.5 2.5l-.94 2.06-2.06.94zm10 10l.94 2.06.94-2.06 2.06-.94-2.06-.94-.94-2.06-.94 2.06-2.06.94z\"/><path d=\"M17.41 7.96l-1.37-1.37c-.4-.4-.92-.59-1.43-.59-.52 0-1.04.2-1.43.59L10.3 9.45l-7.72 7.72c-.78.78-.78 2.05 0 2.83L4 21.41c.39.39.9.59 1.41.59.51 0 1.02-.2 1.41-.59l7.78-7.78 2.81-2.81c.8-.78.8-2.07 0-2.86zM5.41 20L4 18.59l7.72-7.72 1.47 1.35L5.41 20z\"/>\n",
              "  </svg>\n",
              "      </button>\n",
              "      \n",
              "  <style>\n",
              "    .colab-df-container {\n",
              "      display:flex;\n",
              "      flex-wrap:wrap;\n",
              "      gap: 12px;\n",
              "    }\n",
              "\n",
              "    .colab-df-convert {\n",
              "      background-color: #E8F0FE;\n",
              "      border: none;\n",
              "      border-radius: 50%;\n",
              "      cursor: pointer;\n",
              "      display: none;\n",
              "      fill: #1967D2;\n",
              "      height: 32px;\n",
              "      padding: 0 0 0 0;\n",
              "      width: 32px;\n",
              "    }\n",
              "\n",
              "    .colab-df-convert:hover {\n",
              "      background-color: #E2EBFA;\n",
              "      box-shadow: 0px 1px 2px rgba(60, 64, 67, 0.3), 0px 1px 3px 1px rgba(60, 64, 67, 0.15);\n",
              "      fill: #174EA6;\n",
              "    }\n",
              "\n",
              "    [theme=dark] .colab-df-convert {\n",
              "      background-color: #3B4455;\n",
              "      fill: #D2E3FC;\n",
              "    }\n",
              "\n",
              "    [theme=dark] .colab-df-convert:hover {\n",
              "      background-color: #434B5C;\n",
              "      box-shadow: 0px 1px 3px 1px rgba(0, 0, 0, 0.15);\n",
              "      filter: drop-shadow(0px 1px 2px rgba(0, 0, 0, 0.3));\n",
              "      fill: #FFFFFF;\n",
              "    }\n",
              "  </style>\n",
              "\n",
              "      <script>\n",
              "        const buttonEl =\n",
              "          document.querySelector('#df-79aa9ff3-8463-4a51-9fef-b843417298f2 button.colab-df-convert');\n",
              "        buttonEl.style.display =\n",
              "          google.colab.kernel.accessAllowed ? 'block' : 'none';\n",
              "\n",
              "        async function convertToInteractive(key) {\n",
              "          const element = document.querySelector('#df-79aa9ff3-8463-4a51-9fef-b843417298f2');\n",
              "          const dataTable =\n",
              "            await google.colab.kernel.invokeFunction('convertToInteractive',\n",
              "                                                     [key], {});\n",
              "          if (!dataTable) return;\n",
              "\n",
              "          const docLinkHtml = 'Like what you see? Visit the ' +\n",
              "            '<a target=\"_blank\" href=https://colab.research.google.com/notebooks/data_table.ipynb>data table notebook</a>'\n",
              "            + ' to learn more about interactive tables.';\n",
              "          element.innerHTML = '';\n",
              "          dataTable['output_type'] = 'display_data';\n",
              "          await google.colab.output.renderOutput(dataTable, element);\n",
              "          const docLink = document.createElement('div');\n",
              "          docLink.innerHTML = docLinkHtml;\n",
              "          element.appendChild(docLink);\n",
              "        }\n",
              "      </script>\n",
              "    </div>\n",
              "  </div>\n",
              "  "
            ]
          },
          "metadata": {},
          "execution_count": 6
        }
      ]
    },
    {
      "cell_type": "markdown",
      "source": [
        "Let us check the shape of the dataset."
      ],
      "metadata": {
        "id": "Nx06TOv2Vxvf"
      }
    },
    {
      "cell_type": "code",
      "source": [
        "inflammations_df.shape"
      ],
      "metadata": {
        "colab": {
          "base_uri": "https://localhost:8080/"
        },
        "id": "-UDdVFUHOhko",
        "outputId": "fb24121c-3670-4406-bc8e-96877581a183"
      },
      "execution_count": 7,
      "outputs": [
        {
          "output_type": "execute_result",
          "data": {
            "text/plain": [
              "(120, 8)"
            ]
          },
          "metadata": {},
          "execution_count": 7
        }
      ]
    },
    {
      "cell_type": "markdown",
      "source": [
        "We can see that this dataset has 120 rows and 8 features. Going ahead, we will also name the features of the dataset based on the description provided."
      ],
      "metadata": {
        "id": "TV8AyD1vV9uP"
      }
    },
    {
      "cell_type": "markdown",
      "source": [
        "Let us also check for missing values in the dataset."
      ],
      "metadata": {
        "id": "pi1ZtYDWWLma"
      }
    },
    {
      "cell_type": "code",
      "source": [
        "inflammations_df.isna().sum()"
      ],
      "metadata": {
        "colab": {
          "base_uri": "https://localhost:8080/"
        },
        "id": "cG6uwybRWKGp",
        "outputId": "f17c0aec-7bc7-43ec-9172-53f76552201e"
      },
      "execution_count": 8,
      "outputs": [
        {
          "output_type": "execute_result",
          "data": {
            "text/plain": [
              "temperature                   0\n",
              "HasNausea                     0\n",
              "HasLumbarPain                 0\n",
              "HasContinuousUrgeToUrinate    0\n",
              "HasMicturitionPain            0\n",
              "HasDiscomfortInUrethra        0\n",
              "BladderInflammation           0\n",
              "HasNephritises                0\n",
              "dtype: int64"
            ]
          },
          "metadata": {},
          "execution_count": 8
        }
      ]
    },
    {
      "cell_type": "markdown",
      "source": [
        "We can see that there are no missing values in the dataset."
      ],
      "metadata": {
        "id": "z-mXDeONWW7L"
      }
    },
    {
      "cell_type": "markdown",
      "source": [
        "Let us now take a look at the distribution of those who have inflammation of the bladder and those who have nephritises."
      ],
      "metadata": {
        "id": "xkK3S3pjP_-w"
      }
    },
    {
      "cell_type": "code",
      "source": [
        "inflammations_df[\"BladderInflammation\"].value_counts()"
      ],
      "metadata": {
        "colab": {
          "base_uri": "https://localhost:8080/"
        },
        "id": "Jofe1skZQJcB",
        "outputId": "c3c979aa-5b58-4177-bc56-e904eff3f7c7"
      },
      "execution_count": 9,
      "outputs": [
        {
          "output_type": "execute_result",
          "data": {
            "text/plain": [
              "no     61\n",
              "yes    59\n",
              "Name: BladderInflammation, dtype: int64"
            ]
          },
          "metadata": {},
          "execution_count": 9
        }
      ]
    },
    {
      "cell_type": "code",
      "source": [
        "inflammations_df[\"HasNephritises\"].value_counts()"
      ],
      "metadata": {
        "colab": {
          "base_uri": "https://localhost:8080/"
        },
        "id": "DGEOP3gYZNBT",
        "outputId": "3be26ec2-f11e-424b-dea0-a0783ea356ef"
      },
      "execution_count": 10,
      "outputs": [
        {
          "output_type": "execute_result",
          "data": {
            "text/plain": [
              "no     70\n",
              "yes    50\n",
              "Name: HasNephritises, dtype: int64"
            ]
          },
          "metadata": {},
          "execution_count": 10
        }
      ]
    },
    {
      "cell_type": "markdown",
      "source": [
        "We can see there are 59 people who have been diagnosed with bladder information and 50 people have been diagnosed with acute nephritises."
      ],
      "metadata": {
        "id": "rPvCwDN7ZUOZ"
      }
    },
    {
      "cell_type": "markdown",
      "source": [
        "Let us now take a look at the column types of the dataframe"
      ],
      "metadata": {
        "id": "XTRZ0-_RZqy7"
      }
    },
    {
      "cell_type": "code",
      "source": [
        "inflammations_df.dtypes"
      ],
      "metadata": {
        "colab": {
          "base_uri": "https://localhost:8080/"
        },
        "id": "CeHu0RqWaeDr",
        "outputId": "24dc8eef-5cbd-46be-f964-f2b09283a0c8"
      },
      "execution_count": 11,
      "outputs": [
        {
          "output_type": "execute_result",
          "data": {
            "text/plain": [
              "temperature                   object\n",
              "HasNausea                     object\n",
              "HasLumbarPain                 object\n",
              "HasContinuousUrgeToUrinate    object\n",
              "HasMicturitionPain            object\n",
              "HasDiscomfortInUrethra        object\n",
              "BladderInflammation           object\n",
              "HasNephritises                object\n",
              "dtype: object"
            ]
          },
          "metadata": {},
          "execution_count": 11
        }
      ]
    },
    {
      "cell_type": "markdown",
      "source": [
        "Since all of the features are categorical in nature, let us convert all the \"yes\" and \"no\" values to 0 and 1."
      ],
      "metadata": {
        "id": "xD8bauNeanLU"
      }
    },
    {
      "cell_type": "code",
      "source": [
        "inflammations_df =inflammations_df.replace(['yes'], 1)\n",
        "inflammations_df =inflammations_df.replace(['no'], 0)"
      ],
      "metadata": {
        "id": "LjFQCWVJamvs"
      },
      "execution_count": 12,
      "outputs": []
    },
    {
      "cell_type": "markdown",
      "source": [
        "Let us now take a look at the temperature column separately"
      ],
      "metadata": {
        "id": "anY8HN3_fSk7"
      }
    },
    {
      "cell_type": "code",
      "source": [
        "inflammations_df[\"temperature\"].unique()"
      ],
      "metadata": {
        "colab": {
          "base_uri": "https://localhost:8080/"
        },
        "id": "SxVO86Moj6DM",
        "outputId": "f9564eca-7b73-4501-aebf-9c9aab140625"
      },
      "execution_count": 13,
      "outputs": [
        {
          "output_type": "execute_result",
          "data": {
            "text/plain": [
              "array(['35,5', '35,9', '36,0', '36,2', '36,3', '36,6', '36,7', '36,8',\n",
              "       '36,9', '37,0', '37,1', '37,2', '37,3', '37,4', '37,5', '37,6',\n",
              "       '37,7', '37,8', '37,9', '38,0', '38,1', '38,3', '38,5', '38,7',\n",
              "       '38,9', '39,0', '39,4', '39,7', '40,0', '40,1', '40,2', '40,3',\n",
              "       '40,4', '40,5', '40,6', '40,7', '40,8', '40,9', '41,0', '41,1',\n",
              "       '41,2', '41,3', '41,4', '41,5'], dtype=object)"
            ]
          },
          "metadata": {},
          "execution_count": 13
        }
      ]
    },
    {
      "cell_type": "code",
      "source": [
        "inflammations_df[\"temperature\"] = inflammations_df[\"temperature\"].str.replace(',', '.').astype(float)"
      ],
      "metadata": {
        "id": "QEN8lgeygRAt"
      },
      "execution_count": 14,
      "outputs": []
    },
    {
      "cell_type": "markdown",
      "source": [
        "Let us also categorise the temperature column into 3 categories for ease of categorising:\n",
        "\n",
        "<=37.5 - Normal \n",
        "\n",
        ">=37.5 and <=39.5 - Medium\n",
        "\n",
        ">=39.5 and <=41.5 - High"
      ],
      "metadata": {
        "id": "dfFwHAI6v_SO"
      }
    },
    {
      "cell_type": "code",
      "source": [
        "inflammations_df[\"temperature\"].unique()"
      ],
      "metadata": {
        "colab": {
          "base_uri": "https://localhost:8080/"
        },
        "id": "yhkDrU8s3fzV",
        "outputId": "f33d2e2f-3338-45f8-f7ba-59a281d5d7fd"
      },
      "execution_count": 15,
      "outputs": [
        {
          "output_type": "execute_result",
          "data": {
            "text/plain": [
              "array([35.5, 35.9, 36. , 36.2, 36.3, 36.6, 36.7, 36.8, 36.9, 37. , 37.1,\n",
              "       37.2, 37.3, 37.4, 37.5, 37.6, 37.7, 37.8, 37.9, 38. , 38.1, 38.3,\n",
              "       38.5, 38.7, 38.9, 39. , 39.4, 39.7, 40. , 40.1, 40.2, 40.3, 40.4,\n",
              "       40.5, 40.6, 40.7, 40.8, 40.9, 41. , 41.1, 41.2, 41.3, 41.4, 41.5])"
            ]
          },
          "metadata": {},
          "execution_count": 15
        }
      ]
    },
    {
      "cell_type": "markdown",
      "source": [
        "Now, let us check the correlation between all the features with the target variables \"BladderInflammation\" and \"HasNephritises\"."
      ],
      "metadata": {
        "id": "6S7M7ERUc0vc"
      }
    },
    {
      "cell_type": "code",
      "source": [
        "category = pd.cut(inflammations_df.temperature,bins=[0,37.5,39.5,41.5],labels=[0,1,2])\n",
        "inflammations_df.insert(1,\"Temperature_Range\",category.astype(int))"
      ],
      "metadata": {
        "id": "6cRwcJYQ6DG2"
      },
      "execution_count": 16,
      "outputs": []
    },
    {
      "cell_type": "code",
      "source": [
        "inflammations_df.head()"
      ],
      "metadata": {
        "colab": {
          "base_uri": "https://localhost:8080/",
          "height": 270
        },
        "id": "J1AE1GADgfJW",
        "outputId": "d5ad4c66-ab5d-4a45-e930-40c040e3fbca"
      },
      "execution_count": 17,
      "outputs": [
        {
          "output_type": "execute_result",
          "data": {
            "text/plain": [
              "   temperature  Temperature_Range  HasNausea  HasLumbarPain  \\\n",
              "0         35.5                  0          0              1   \n",
              "1         35.9                  0          0              0   \n",
              "2         35.9                  0          0              1   \n",
              "3         36.0                  0          0              0   \n",
              "4         36.0                  0          0              1   \n",
              "\n",
              "   HasContinuousUrgeToUrinate  HasMicturitionPain  HasDiscomfortInUrethra  \\\n",
              "0                           0                   0                       0   \n",
              "1                           1                   1                       1   \n",
              "2                           0                   0                       0   \n",
              "3                           1                   1                       1   \n",
              "4                           0                   0                       0   \n",
              "\n",
              "   BladderInflammation  HasNephritises  \n",
              "0                    0               0  \n",
              "1                    1               0  \n",
              "2                    0               0  \n",
              "3                    1               0  \n",
              "4                    0               0  "
            ],
            "text/html": [
              "\n",
              "  <div id=\"df-3d95a984-7eb2-4602-9540-fd1740c7626d\">\n",
              "    <div class=\"colab-df-container\">\n",
              "      <div>\n",
              "<style scoped>\n",
              "    .dataframe tbody tr th:only-of-type {\n",
              "        vertical-align: middle;\n",
              "    }\n",
              "\n",
              "    .dataframe tbody tr th {\n",
              "        vertical-align: top;\n",
              "    }\n",
              "\n",
              "    .dataframe thead th {\n",
              "        text-align: right;\n",
              "    }\n",
              "</style>\n",
              "<table border=\"1\" class=\"dataframe\">\n",
              "  <thead>\n",
              "    <tr style=\"text-align: right;\">\n",
              "      <th></th>\n",
              "      <th>temperature</th>\n",
              "      <th>Temperature_Range</th>\n",
              "      <th>HasNausea</th>\n",
              "      <th>HasLumbarPain</th>\n",
              "      <th>HasContinuousUrgeToUrinate</th>\n",
              "      <th>HasMicturitionPain</th>\n",
              "      <th>HasDiscomfortInUrethra</th>\n",
              "      <th>BladderInflammation</th>\n",
              "      <th>HasNephritises</th>\n",
              "    </tr>\n",
              "  </thead>\n",
              "  <tbody>\n",
              "    <tr>\n",
              "      <th>0</th>\n",
              "      <td>35.5</td>\n",
              "      <td>0</td>\n",
              "      <td>0</td>\n",
              "      <td>1</td>\n",
              "      <td>0</td>\n",
              "      <td>0</td>\n",
              "      <td>0</td>\n",
              "      <td>0</td>\n",
              "      <td>0</td>\n",
              "    </tr>\n",
              "    <tr>\n",
              "      <th>1</th>\n",
              "      <td>35.9</td>\n",
              "      <td>0</td>\n",
              "      <td>0</td>\n",
              "      <td>0</td>\n",
              "      <td>1</td>\n",
              "      <td>1</td>\n",
              "      <td>1</td>\n",
              "      <td>1</td>\n",
              "      <td>0</td>\n",
              "    </tr>\n",
              "    <tr>\n",
              "      <th>2</th>\n",
              "      <td>35.9</td>\n",
              "      <td>0</td>\n",
              "      <td>0</td>\n",
              "      <td>1</td>\n",
              "      <td>0</td>\n",
              "      <td>0</td>\n",
              "      <td>0</td>\n",
              "      <td>0</td>\n",
              "      <td>0</td>\n",
              "    </tr>\n",
              "    <tr>\n",
              "      <th>3</th>\n",
              "      <td>36.0</td>\n",
              "      <td>0</td>\n",
              "      <td>0</td>\n",
              "      <td>0</td>\n",
              "      <td>1</td>\n",
              "      <td>1</td>\n",
              "      <td>1</td>\n",
              "      <td>1</td>\n",
              "      <td>0</td>\n",
              "    </tr>\n",
              "    <tr>\n",
              "      <th>4</th>\n",
              "      <td>36.0</td>\n",
              "      <td>0</td>\n",
              "      <td>0</td>\n",
              "      <td>1</td>\n",
              "      <td>0</td>\n",
              "      <td>0</td>\n",
              "      <td>0</td>\n",
              "      <td>0</td>\n",
              "      <td>0</td>\n",
              "    </tr>\n",
              "  </tbody>\n",
              "</table>\n",
              "</div>\n",
              "      <button class=\"colab-df-convert\" onclick=\"convertToInteractive('df-3d95a984-7eb2-4602-9540-fd1740c7626d')\"\n",
              "              title=\"Convert this dataframe to an interactive table.\"\n",
              "              style=\"display:none;\">\n",
              "        \n",
              "  <svg xmlns=\"http://www.w3.org/2000/svg\" height=\"24px\"viewBox=\"0 0 24 24\"\n",
              "       width=\"24px\">\n",
              "    <path d=\"M0 0h24v24H0V0z\" fill=\"none\"/>\n",
              "    <path d=\"M18.56 5.44l.94 2.06.94-2.06 2.06-.94-2.06-.94-.94-2.06-.94 2.06-2.06.94zm-11 1L8.5 8.5l.94-2.06 2.06-.94-2.06-.94L8.5 2.5l-.94 2.06-2.06.94zm10 10l.94 2.06.94-2.06 2.06-.94-2.06-.94-.94-2.06-.94 2.06-2.06.94z\"/><path d=\"M17.41 7.96l-1.37-1.37c-.4-.4-.92-.59-1.43-.59-.52 0-1.04.2-1.43.59L10.3 9.45l-7.72 7.72c-.78.78-.78 2.05 0 2.83L4 21.41c.39.39.9.59 1.41.59.51 0 1.02-.2 1.41-.59l7.78-7.78 2.81-2.81c.8-.78.8-2.07 0-2.86zM5.41 20L4 18.59l7.72-7.72 1.47 1.35L5.41 20z\"/>\n",
              "  </svg>\n",
              "      </button>\n",
              "      \n",
              "  <style>\n",
              "    .colab-df-container {\n",
              "      display:flex;\n",
              "      flex-wrap:wrap;\n",
              "      gap: 12px;\n",
              "    }\n",
              "\n",
              "    .colab-df-convert {\n",
              "      background-color: #E8F0FE;\n",
              "      border: none;\n",
              "      border-radius: 50%;\n",
              "      cursor: pointer;\n",
              "      display: none;\n",
              "      fill: #1967D2;\n",
              "      height: 32px;\n",
              "      padding: 0 0 0 0;\n",
              "      width: 32px;\n",
              "    }\n",
              "\n",
              "    .colab-df-convert:hover {\n",
              "      background-color: #E2EBFA;\n",
              "      box-shadow: 0px 1px 2px rgba(60, 64, 67, 0.3), 0px 1px 3px 1px rgba(60, 64, 67, 0.15);\n",
              "      fill: #174EA6;\n",
              "    }\n",
              "\n",
              "    [theme=dark] .colab-df-convert {\n",
              "      background-color: #3B4455;\n",
              "      fill: #D2E3FC;\n",
              "    }\n",
              "\n",
              "    [theme=dark] .colab-df-convert:hover {\n",
              "      background-color: #434B5C;\n",
              "      box-shadow: 0px 1px 3px 1px rgba(0, 0, 0, 0.15);\n",
              "      filter: drop-shadow(0px 1px 2px rgba(0, 0, 0, 0.3));\n",
              "      fill: #FFFFFF;\n",
              "    }\n",
              "  </style>\n",
              "\n",
              "      <script>\n",
              "        const buttonEl =\n",
              "          document.querySelector('#df-3d95a984-7eb2-4602-9540-fd1740c7626d button.colab-df-convert');\n",
              "        buttonEl.style.display =\n",
              "          google.colab.kernel.accessAllowed ? 'block' : 'none';\n",
              "\n",
              "        async function convertToInteractive(key) {\n",
              "          const element = document.querySelector('#df-3d95a984-7eb2-4602-9540-fd1740c7626d');\n",
              "          const dataTable =\n",
              "            await google.colab.kernel.invokeFunction('convertToInteractive',\n",
              "                                                     [key], {});\n",
              "          if (!dataTable) return;\n",
              "\n",
              "          const docLinkHtml = 'Like what you see? Visit the ' +\n",
              "            '<a target=\"_blank\" href=https://colab.research.google.com/notebooks/data_table.ipynb>data table notebook</a>'\n",
              "            + ' to learn more about interactive tables.';\n",
              "          element.innerHTML = '';\n",
              "          dataTable['output_type'] = 'display_data';\n",
              "          await google.colab.output.renderOutput(dataTable, element);\n",
              "          const docLink = document.createElement('div');\n",
              "          docLink.innerHTML = docLinkHtml;\n",
              "          element.appendChild(docLink);\n",
              "        }\n",
              "      </script>\n",
              "    </div>\n",
              "  </div>\n",
              "  "
            ]
          },
          "metadata": {},
          "execution_count": 17
        }
      ]
    },
    {
      "cell_type": "code",
      "source": [
        "inflammations_df[\"Temperature_Range\"].value_counts()"
      ],
      "metadata": {
        "colab": {
          "base_uri": "https://localhost:8080/"
        },
        "id": "bydHfa4Jg3JR",
        "outputId": "f11ecce4-eb04-4514-99a2-62b533cd3e93"
      },
      "execution_count": 18,
      "outputs": [
        {
          "output_type": "execute_result",
          "data": {
            "text/plain": [
              "2    51\n",
              "0    45\n",
              "1    24\n",
              "Name: Temperature_Range, dtype: int64"
            ]
          },
          "metadata": {},
          "execution_count": 18
        }
      ]
    },
    {
      "cell_type": "markdown",
      "source": [
        "We can see that there are 51 with high temperature, 24 patients with medium temperature and 45 patients with normal temperature"
      ],
      "metadata": {
        "id": "jFVYtODrhAFu"
      }
    },
    {
      "cell_type": "markdown",
      "source": [
        "Next step, I will drop the temperature column from the dataset as we now have the temperature range."
      ],
      "metadata": {
        "id": "C6wijSDIjXZA"
      }
    },
    {
      "cell_type": "code",
      "source": [
        "inflammations_df.drop([\"temperature\"],axis=1,inplace=True)"
      ],
      "metadata": {
        "id": "RwH2XtopjWkP"
      },
      "execution_count": 19,
      "outputs": []
    },
    {
      "cell_type": "code",
      "source": [
        "inflammations_df.dtypes"
      ],
      "metadata": {
        "colab": {
          "base_uri": "https://localhost:8080/"
        },
        "id": "_jH1WChmjedH",
        "outputId": "b0281f07-ce5d-4bed-f023-ac08e7dacf9f"
      },
      "execution_count": 20,
      "outputs": [
        {
          "output_type": "execute_result",
          "data": {
            "text/plain": [
              "Temperature_Range             int64\n",
              "HasNausea                     int64\n",
              "HasLumbarPain                 int64\n",
              "HasContinuousUrgeToUrinate    int64\n",
              "HasMicturitionPain            int64\n",
              "HasDiscomfortInUrethra        int64\n",
              "BladderInflammation           int64\n",
              "HasNephritises                int64\n",
              "dtype: object"
            ]
          },
          "metadata": {},
          "execution_count": 20
        }
      ]
    },
    {
      "cell_type": "code",
      "source": [
        "inflammations_df.corr()"
      ],
      "metadata": {
        "colab": {
          "base_uri": "https://localhost:8080/",
          "height": 364
        },
        "id": "azDunmU1dI6x",
        "outputId": "5ff5eb28-1977-45f6-b66c-2bf3a408d323"
      },
      "execution_count": 21,
      "outputs": [
        {
          "output_type": "execute_result",
          "data": {
            "text/plain": [
              "                            Temperature_Range  HasNausea  HasLumbarPain  \\\n",
              "Temperature_Range                    1.000000   0.600533       0.388020   \n",
              "HasNausea                            0.600533   1.000000       0.477105   \n",
              "HasLumbarPain                        0.388020   0.477105       1.000000   \n",
              "HasContinuousUrgeToUrinate          -0.019795  -0.013765      -0.239046   \n",
              "HasMicturitionPain                   0.094262   0.574007      -0.183142   \n",
              "HasDiscomfortInUrethra               0.028392  -0.121744       0.028571   \n",
              "BladderInflammation                 -0.223055   0.184630      -0.521251   \n",
              "HasNephritises                       0.728721   0.667947       0.714286   \n",
              "\n",
              "                            HasContinuousUrgeToUrinate  HasMicturitionPain  \\\n",
              "Temperature_Range                            -0.019795            0.094262   \n",
              "HasNausea                                    -0.013765            0.574007   \n",
              "HasLumbarPain                                -0.239046           -0.183142   \n",
              "HasContinuousUrgeToUrinate                    1.000000            0.341816   \n",
              "HasMicturitionPain                            0.341816            1.000000   \n",
              "HasDiscomfortInUrethra                        0.597614            0.149331   \n",
              "BladderInflammation                           0.695418            0.666574   \n",
              "HasNephritises                                0.239046            0.149331   \n",
              "\n",
              "                            HasDiscomfortInUrethra  BladderInflammation  \\\n",
              "Temperature_Range                         0.028392            -0.223055   \n",
              "HasNausea                                -0.121744             0.184630   \n",
              "HasLumbarPain                             0.028571            -0.521251   \n",
              "HasContinuousUrgeToUrinate                0.597614             0.695418   \n",
              "HasMicturitionPain                        0.149331             0.666574   \n",
              "HasDiscomfortInUrethra                    1.000000             0.149331   \n",
              "BladderInflammation                       0.149331             1.000000   \n",
              "HasNephritises                            0.314286            -0.188777   \n",
              "\n",
              "                            HasNephritises  \n",
              "Temperature_Range                 0.728721  \n",
              "HasNausea                         0.667947  \n",
              "HasLumbarPain                     0.714286  \n",
              "HasContinuousUrgeToUrinate        0.239046  \n",
              "HasMicturitionPain                0.149331  \n",
              "HasDiscomfortInUrethra            0.314286  \n",
              "BladderInflammation              -0.188777  \n",
              "HasNephritises                    1.000000  "
            ],
            "text/html": [
              "\n",
              "  <div id=\"df-179e9877-b5f1-45a1-af94-c75c1b91a986\">\n",
              "    <div class=\"colab-df-container\">\n",
              "      <div>\n",
              "<style scoped>\n",
              "    .dataframe tbody tr th:only-of-type {\n",
              "        vertical-align: middle;\n",
              "    }\n",
              "\n",
              "    .dataframe tbody tr th {\n",
              "        vertical-align: top;\n",
              "    }\n",
              "\n",
              "    .dataframe thead th {\n",
              "        text-align: right;\n",
              "    }\n",
              "</style>\n",
              "<table border=\"1\" class=\"dataframe\">\n",
              "  <thead>\n",
              "    <tr style=\"text-align: right;\">\n",
              "      <th></th>\n",
              "      <th>Temperature_Range</th>\n",
              "      <th>HasNausea</th>\n",
              "      <th>HasLumbarPain</th>\n",
              "      <th>HasContinuousUrgeToUrinate</th>\n",
              "      <th>HasMicturitionPain</th>\n",
              "      <th>HasDiscomfortInUrethra</th>\n",
              "      <th>BladderInflammation</th>\n",
              "      <th>HasNephritises</th>\n",
              "    </tr>\n",
              "  </thead>\n",
              "  <tbody>\n",
              "    <tr>\n",
              "      <th>Temperature_Range</th>\n",
              "      <td>1.000000</td>\n",
              "      <td>0.600533</td>\n",
              "      <td>0.388020</td>\n",
              "      <td>-0.019795</td>\n",
              "      <td>0.094262</td>\n",
              "      <td>0.028392</td>\n",
              "      <td>-0.223055</td>\n",
              "      <td>0.728721</td>\n",
              "    </tr>\n",
              "    <tr>\n",
              "      <th>HasNausea</th>\n",
              "      <td>0.600533</td>\n",
              "      <td>1.000000</td>\n",
              "      <td>0.477105</td>\n",
              "      <td>-0.013765</td>\n",
              "      <td>0.574007</td>\n",
              "      <td>-0.121744</td>\n",
              "      <td>0.184630</td>\n",
              "      <td>0.667947</td>\n",
              "    </tr>\n",
              "    <tr>\n",
              "      <th>HasLumbarPain</th>\n",
              "      <td>0.388020</td>\n",
              "      <td>0.477105</td>\n",
              "      <td>1.000000</td>\n",
              "      <td>-0.239046</td>\n",
              "      <td>-0.183142</td>\n",
              "      <td>0.028571</td>\n",
              "      <td>-0.521251</td>\n",
              "      <td>0.714286</td>\n",
              "    </tr>\n",
              "    <tr>\n",
              "      <th>HasContinuousUrgeToUrinate</th>\n",
              "      <td>-0.019795</td>\n",
              "      <td>-0.013765</td>\n",
              "      <td>-0.239046</td>\n",
              "      <td>1.000000</td>\n",
              "      <td>0.341816</td>\n",
              "      <td>0.597614</td>\n",
              "      <td>0.695418</td>\n",
              "      <td>0.239046</td>\n",
              "    </tr>\n",
              "    <tr>\n",
              "      <th>HasMicturitionPain</th>\n",
              "      <td>0.094262</td>\n",
              "      <td>0.574007</td>\n",
              "      <td>-0.183142</td>\n",
              "      <td>0.341816</td>\n",
              "      <td>1.000000</td>\n",
              "      <td>0.149331</td>\n",
              "      <td>0.666574</td>\n",
              "      <td>0.149331</td>\n",
              "    </tr>\n",
              "    <tr>\n",
              "      <th>HasDiscomfortInUrethra</th>\n",
              "      <td>0.028392</td>\n",
              "      <td>-0.121744</td>\n",
              "      <td>0.028571</td>\n",
              "      <td>0.597614</td>\n",
              "      <td>0.149331</td>\n",
              "      <td>1.000000</td>\n",
              "      <td>0.149331</td>\n",
              "      <td>0.314286</td>\n",
              "    </tr>\n",
              "    <tr>\n",
              "      <th>BladderInflammation</th>\n",
              "      <td>-0.223055</td>\n",
              "      <td>0.184630</td>\n",
              "      <td>-0.521251</td>\n",
              "      <td>0.695418</td>\n",
              "      <td>0.666574</td>\n",
              "      <td>0.149331</td>\n",
              "      <td>1.000000</td>\n",
              "      <td>-0.188777</td>\n",
              "    </tr>\n",
              "    <tr>\n",
              "      <th>HasNephritises</th>\n",
              "      <td>0.728721</td>\n",
              "      <td>0.667947</td>\n",
              "      <td>0.714286</td>\n",
              "      <td>0.239046</td>\n",
              "      <td>0.149331</td>\n",
              "      <td>0.314286</td>\n",
              "      <td>-0.188777</td>\n",
              "      <td>1.000000</td>\n",
              "    </tr>\n",
              "  </tbody>\n",
              "</table>\n",
              "</div>\n",
              "      <button class=\"colab-df-convert\" onclick=\"convertToInteractive('df-179e9877-b5f1-45a1-af94-c75c1b91a986')\"\n",
              "              title=\"Convert this dataframe to an interactive table.\"\n",
              "              style=\"display:none;\">\n",
              "        \n",
              "  <svg xmlns=\"http://www.w3.org/2000/svg\" height=\"24px\"viewBox=\"0 0 24 24\"\n",
              "       width=\"24px\">\n",
              "    <path d=\"M0 0h24v24H0V0z\" fill=\"none\"/>\n",
              "    <path d=\"M18.56 5.44l.94 2.06.94-2.06 2.06-.94-2.06-.94-.94-2.06-.94 2.06-2.06.94zm-11 1L8.5 8.5l.94-2.06 2.06-.94-2.06-.94L8.5 2.5l-.94 2.06-2.06.94zm10 10l.94 2.06.94-2.06 2.06-.94-2.06-.94-.94-2.06-.94 2.06-2.06.94z\"/><path d=\"M17.41 7.96l-1.37-1.37c-.4-.4-.92-.59-1.43-.59-.52 0-1.04.2-1.43.59L10.3 9.45l-7.72 7.72c-.78.78-.78 2.05 0 2.83L4 21.41c.39.39.9.59 1.41.59.51 0 1.02-.2 1.41-.59l7.78-7.78 2.81-2.81c.8-.78.8-2.07 0-2.86zM5.41 20L4 18.59l7.72-7.72 1.47 1.35L5.41 20z\"/>\n",
              "  </svg>\n",
              "      </button>\n",
              "      \n",
              "  <style>\n",
              "    .colab-df-container {\n",
              "      display:flex;\n",
              "      flex-wrap:wrap;\n",
              "      gap: 12px;\n",
              "    }\n",
              "\n",
              "    .colab-df-convert {\n",
              "      background-color: #E8F0FE;\n",
              "      border: none;\n",
              "      border-radius: 50%;\n",
              "      cursor: pointer;\n",
              "      display: none;\n",
              "      fill: #1967D2;\n",
              "      height: 32px;\n",
              "      padding: 0 0 0 0;\n",
              "      width: 32px;\n",
              "    }\n",
              "\n",
              "    .colab-df-convert:hover {\n",
              "      background-color: #E2EBFA;\n",
              "      box-shadow: 0px 1px 2px rgba(60, 64, 67, 0.3), 0px 1px 3px 1px rgba(60, 64, 67, 0.15);\n",
              "      fill: #174EA6;\n",
              "    }\n",
              "\n",
              "    [theme=dark] .colab-df-convert {\n",
              "      background-color: #3B4455;\n",
              "      fill: #D2E3FC;\n",
              "    }\n",
              "\n",
              "    [theme=dark] .colab-df-convert:hover {\n",
              "      background-color: #434B5C;\n",
              "      box-shadow: 0px 1px 3px 1px rgba(0, 0, 0, 0.15);\n",
              "      filter: drop-shadow(0px 1px 2px rgba(0, 0, 0, 0.3));\n",
              "      fill: #FFFFFF;\n",
              "    }\n",
              "  </style>\n",
              "\n",
              "      <script>\n",
              "        const buttonEl =\n",
              "          document.querySelector('#df-179e9877-b5f1-45a1-af94-c75c1b91a986 button.colab-df-convert');\n",
              "        buttonEl.style.display =\n",
              "          google.colab.kernel.accessAllowed ? 'block' : 'none';\n",
              "\n",
              "        async function convertToInteractive(key) {\n",
              "          const element = document.querySelector('#df-179e9877-b5f1-45a1-af94-c75c1b91a986');\n",
              "          const dataTable =\n",
              "            await google.colab.kernel.invokeFunction('convertToInteractive',\n",
              "                                                     [key], {});\n",
              "          if (!dataTable) return;\n",
              "\n",
              "          const docLinkHtml = 'Like what you see? Visit the ' +\n",
              "            '<a target=\"_blank\" href=https://colab.research.google.com/notebooks/data_table.ipynb>data table notebook</a>'\n",
              "            + ' to learn more about interactive tables.';\n",
              "          element.innerHTML = '';\n",
              "          dataTable['output_type'] = 'display_data';\n",
              "          await google.colab.output.renderOutput(dataTable, element);\n",
              "          const docLink = document.createElement('div');\n",
              "          docLink.innerHTML = docLinkHtml;\n",
              "          element.appendChild(docLink);\n",
              "        }\n",
              "      </script>\n",
              "    </div>\n",
              "  </div>\n",
              "  "
            ]
          },
          "metadata": {},
          "execution_count": 21
        }
      ]
    },
    {
      "cell_type": "code",
      "source": [
        "fig = plt.figure(figsize=(12,6))\n",
        "sns.heatmap(inflammations_df.corr(), annot=True)"
      ],
      "metadata": {
        "colab": {
          "base_uri": "https://localhost:8080/",
          "height": 531
        },
        "id": "Vg5qxFtfqLi1",
        "outputId": "045f6239-fa3e-48e6-ee54-386bd581d5b9"
      },
      "execution_count": 22,
      "outputs": [
        {
          "output_type": "execute_result",
          "data": {
            "text/plain": [
              "<Axes: >"
            ]
          },
          "metadata": {},
          "execution_count": 22
        },
        {
          "output_type": "display_data",
          "data": {
            "text/plain": [
              "<Figure size 864x432 with 2 Axes>"
            ],
            "image/png": "[encoded data removed]"
          },
          "metadata": {
            "needs_background": "light"
          }
        }
      ]
    },
    {
      "cell_type": "markdown",
      "source": [
        "From the above table, it is clear that if a person has a continuous urge to urinate or has micturition pains, he has high chances of having a bladder inflammation. On the other hand, if a person has very high fever and has lumbar pain, there are high chances he has nephritises. We can also see that lumbar pain has a negative correlation with bladder inflammation of patients."
      ],
      "metadata": {
        "id": "IlFTxwmTlTHc"
      }
    },
    {
      "cell_type": "markdown",
      "source": [
        "Now our data is ready. We will proceed with modelling. For this, we will divide the data into train and test sets"
      ],
      "metadata": {
        "id": "TpiRg5b1hnVa"
      }
    },
    {
      "cell_type": "markdown",
      "source": [
        "First we will seperate the target variables with the independant features"
      ],
      "metadata": {
        "id": "AeZOG7mmkmf1"
      }
    },
    {
      "cell_type": "code",
      "source": [
        "X = inflammations_df.drop([\"BladderInflammation\", \"HasNephritises\"], axis=\"columns\")\n",
        "X.head()"
      ],
      "metadata": {
        "colab": {
          "base_uri": "https://localhost:8080/",
          "height": 206
        },
        "id": "IQbu1fKnkJZw",
        "outputId": "e1ac25a9-b0d5-43aa-ab54-930a9f51656c"
      },
      "execution_count": 23,
      "outputs": [
        {
          "output_type": "execute_result",
          "data": {
            "text/plain": [
              "   Temperature_Range  HasNausea  HasLumbarPain  HasContinuousUrgeToUrinate  \\\n",
              "0                  0          0              1                           0   \n",
              "1                  0          0              0                           1   \n",
              "2                  0          0              1                           0   \n",
              "3                  0          0              0                           1   \n",
              "4                  0          0              1                           0   \n",
              "\n",
              "   HasMicturitionPain  HasDiscomfortInUrethra  \n",
              "0                   0                       0  \n",
              "1                   1                       1  \n",
              "2                   0                       0  \n",
              "3                   1                       1  \n",
              "4                   0                       0  "
            ],
            "text/html": [
              "\n",
              "  <div id=\"df-4535f0fa-30ef-45e0-9bc2-6fab52130780\">\n",
              "    <div class=\"colab-df-container\">\n",
              "      <div>\n",
              "<style scoped>\n",
              "    .dataframe tbody tr th:only-of-type {\n",
              "        vertical-align: middle;\n",
              "    }\n",
              "\n",
              "    .dataframe tbody tr th {\n",
              "        vertical-align: top;\n",
              "    }\n",
              "\n",
              "    .dataframe thead th {\n",
              "        text-align: right;\n",
              "    }\n",
              "</style>\n",
              "<table border=\"1\" class=\"dataframe\">\n",
              "  <thead>\n",
              "    <tr style=\"text-align: right;\">\n",
              "      <th></th>\n",
              "      <th>Temperature_Range</th>\n",
              "      <th>HasNausea</th>\n",
              "      <th>HasLumbarPain</th>\n",
              "      <th>HasContinuousUrgeToUrinate</th>\n",
              "      <th>HasMicturitionPain</th>\n",
              "      <th>HasDiscomfortInUrethra</th>\n",
              "    </tr>\n",
              "  </thead>\n",
              "  <tbody>\n",
              "    <tr>\n",
              "      <th>0</th>\n",
              "      <td>0</td>\n",
              "      <td>0</td>\n",
              "      <td>1</td>\n",
              "      <td>0</td>\n",
              "      <td>0</td>\n",
              "      <td>0</td>\n",
              "    </tr>\n",
              "    <tr>\n",
              "      <th>1</th>\n",
              "      <td>0</td>\n",
              "      <td>0</td>\n",
              "      <td>0</td>\n",
              "      <td>1</td>\n",
              "      <td>1</td>\n",
              "      <td>1</td>\n",
              "    </tr>\n",
              "    <tr>\n",
              "      <th>2</th>\n",
              "      <td>0</td>\n",
              "      <td>0</td>\n",
              "      <td>1</td>\n",
              "      <td>0</td>\n",
              "      <td>0</td>\n",
              "      <td>0</td>\n",
              "    </tr>\n",
              "    <tr>\n",
              "      <th>3</th>\n",
              "      <td>0</td>\n",
              "      <td>0</td>\n",
              "      <td>0</td>\n",
              "      <td>1</td>\n",
              "      <td>1</td>\n",
              "      <td>1</td>\n",
              "    </tr>\n",
              "    <tr>\n",
              "      <th>4</th>\n",
              "      <td>0</td>\n",
              "      <td>0</td>\n",
              "      <td>1</td>\n",
              "      <td>0</td>\n",
              "      <td>0</td>\n",
              "      <td>0</td>\n",
              "    </tr>\n",
              "  </tbody>\n",
              "</table>\n",
              "</div>\n",
              "      <button class=\"colab-df-convert\" onclick=\"convertToInteractive('df-4535f0fa-30ef-45e0-9bc2-6fab52130780')\"\n",
              "              title=\"Convert this dataframe to an interactive table.\"\n",
              "              style=\"display:none;\">\n",
              "        \n",
              "  <svg xmlns=\"http://www.w3.org/2000/svg\" height=\"24px\"viewBox=\"0 0 24 24\"\n",
              "       width=\"24px\">\n",
              "    <path d=\"M0 0h24v24H0V0z\" fill=\"none\"/>\n",
              "    <path d=\"M18.56 5.44l.94 2.06.94-2.06 2.06-.94-2.06-.94-.94-2.06-.94 2.06-2.06.94zm-11 1L8.5 8.5l.94-2.06 2.06-.94-2.06-.94L8.5 2.5l-.94 2.06-2.06.94zm10 10l.94 2.06.94-2.06 2.06-.94-2.06-.94-.94-2.06-.94 2.06-2.06.94z\"/><path d=\"M17.41 7.96l-1.37-1.37c-.4-.4-.92-.59-1.43-.59-.52 0-1.04.2-1.43.59L10.3 9.45l-7.72 7.72c-.78.78-.78 2.05 0 2.83L4 21.41c.39.39.9.59 1.41.59.51 0 1.02-.2 1.41-.59l7.78-7.78 2.81-2.81c.8-.78.8-2.07 0-2.86zM5.41 20L4 18.59l7.72-7.72 1.47 1.35L5.41 20z\"/>\n",
              "  </svg>\n",
              "      </button>\n",
              "      \n",
              "  <style>\n",
              "    .colab-df-container {\n",
              "      display:flex;\n",
              "      flex-wrap:wrap;\n",
              "      gap: 12px;\n",
              "    }\n",
              "\n",
              "    .colab-df-convert {\n",
              "      background-color: #E8F0FE;\n",
              "      border: none;\n",
              "      border-radius: 50%;\n",
              "      cursor: pointer;\n",
              "      display: none;\n",
              "      fill: #1967D2;\n",
              "      height: 32px;\n",
              "      padding: 0 0 0 0;\n",
              "      width: 32px;\n",
              "    }\n",
              "\n",
              "    .colab-df-convert:hover {\n",
              "      background-color: #E2EBFA;\n",
              "      box-shadow: 0px 1px 2px rgba(60, 64, 67, 0.3), 0px 1px 3px 1px rgba(60, 64, 67, 0.15);\n",
              "      fill: #174EA6;\n",
              "    }\n",
              "\n",
              "    [theme=dark] .colab-df-convert {\n",
              "      background-color: #3B4455;\n",
              "      fill: #D2E3FC;\n",
              "    }\n",
              "\n",
              "    [theme=dark] .colab-df-convert:hover {\n",
              "      background-color: #434B5C;\n",
              "      box-shadow: 0px 1px 3px 1px rgba(0, 0, 0, 0.15);\n",
              "      filter: drop-shadow(0px 1px 2px rgba(0, 0, 0, 0.3));\n",
              "      fill: #FFFFFF;\n",
              "    }\n",
              "  </style>\n",
              "\n",
              "      <script>\n",
              "        const buttonEl =\n",
              "          document.querySelector('#df-4535f0fa-30ef-45e0-9bc2-6fab52130780 button.colab-df-convert');\n",
              "        buttonEl.style.display =\n",
              "          google.colab.kernel.accessAllowed ? 'block' : 'none';\n",
              "\n",
              "        async function convertToInteractive(key) {\n",
              "          const element = document.querySelector('#df-4535f0fa-30ef-45e0-9bc2-6fab52130780');\n",
              "          const dataTable =\n",
              "            await google.colab.kernel.invokeFunction('convertToInteractive',\n",
              "                                                     [key], {});\n",
              "          if (!dataTable) return;\n",
              "\n",
              "          const docLinkHtml = 'Like what you see? Visit the ' +\n",
              "            '<a target=\"_blank\" href=https://colab.research.google.com/notebooks/data_table.ipynb>data table notebook</a>'\n",
              "            + ' to learn more about interactive tables.';\n",
              "          element.innerHTML = '';\n",
              "          dataTable['output_type'] = 'display_data';\n",
              "          await google.colab.output.renderOutput(dataTable, element);\n",
              "          const docLink = document.createElement('div');\n",
              "          docLink.innerHTML = docLinkHtml;\n",
              "          element.appendChild(docLink);\n",
              "        }\n",
              "      </script>\n",
              "    </div>\n",
              "  </div>\n",
              "  "
            ]
          },
          "metadata": {},
          "execution_count": 23
        }
      ]
    },
    {
      "cell_type": "code",
      "source": [
        "Y_bladderInflammation = inflammations_df[\"BladderInflammation\"]\n",
        "Y_hasNephritises = inflammations_df[\"HasNephritises\"]"
      ],
      "metadata": {
        "id": "LL1dO_fjk33x"
      },
      "execution_count": 24,
      "outputs": []
    },
    {
      "cell_type": "markdown",
      "source": [
        "First we will train the model for bladder information and then we will train for acute nephritises\n",
        "We are dividing the dataset into 70-30 where 70% is the training set and 30% is part of the test set"
      ],
      "metadata": {
        "id": "uGcu0OlelY_o"
      }
    },
    {
      "cell_type": "code",
      "source": [
        "X_train_bladderInf, X_test_bladderInf, y_train_bladderInf, y_test_bladderInf = train_test_split(X, Y_bladderInflammation, test_size=0.3)"
      ],
      "metadata": {
        "id": "vzDDK_cPiHsG"
      },
      "execution_count": 25,
      "outputs": []
    },
    {
      "cell_type": "markdown",
      "source": [
        "Let us check the size of our training dataset and test dataset"
      ],
      "metadata": {
        "id": "HRarEr7Ylxgg"
      }
    },
    {
      "cell_type": "code",
      "source": [
        "print(\"Train dataset:\",X_train_bladderInf.shape)\n",
        "print(\"Test dataset:\",X_test_bladderInf.shape)"
      ],
      "metadata": {
        "colab": {
          "base_uri": "https://localhost:8080/"
        },
        "id": "M6Z-1ChdmPQy",
        "outputId": "2e09ca27-ef7a-4c25-b877-50c090947646"
      },
      "execution_count": 26,
      "outputs": [
        {
          "output_type": "stream",
          "name": "stdout",
          "text": [
            "Train dataset: (84, 6)\n",
            "Test dataset: (36, 6)\n"
          ]
        }
      ]
    },
    {
      "cell_type": "markdown",
      "source": [
        "Let us first use Decision Tree classifier. For that we will use DecisionTreeClassifier from the sklearn package"
      ],
      "metadata": {
        "id": "PQeiM2ZJm2Ii"
      }
    },
    {
      "cell_type": "code",
      "source": [
        "model_DT = DecisionTreeClassifier().fit(X_train_bladderInf,y_train_bladderInf)"
      ],
      "metadata": {
        "id": "2mNLendOm0Qo"
      },
      "execution_count": 27,
      "outputs": []
    },
    {
      "cell_type": "markdown",
      "source": [
        "Let us now predict the model using the test data"
      ],
      "metadata": {
        "id": "krmjUcDIngx_"
      }
    },
    {
      "cell_type": "code",
      "source": [
        "score_DT= model_DT.score(X_test_bladderInf, y_test_bladderInf)"
      ],
      "metadata": {
        "id": "WUEteUffne2Y"
      },
      "execution_count": 28,
      "outputs": []
    },
    {
      "cell_type": "code",
      "source": [
        "print(score_DT)"
      ],
      "metadata": {
        "colab": {
          "base_uri": "https://localhost:8080/"
        },
        "id": "1V-9KY1TsYtK",
        "outputId": "9777c452-9733-4502-8d03-835dc10034be"
      },
      "execution_count": 29,
      "outputs": [
        {
          "output_type": "stream",
          "name": "stdout",
          "text": [
            "1.0\n"
          ]
        }
      ]
    },
    {
      "cell_type": "code",
      "source": [
        "y_pred_DT = model_DT.predict(X_test_bladderInf)"
      ],
      "metadata": {
        "id": "lf2GTL-kpYnR"
      },
      "execution_count": 30,
      "outputs": []
    },
    {
      "cell_type": "code",
      "source": [
        "print(y_pred_DT)"
      ],
      "metadata": {
        "colab": {
          "base_uri": "https://localhost:8080/"
        },
        "id": "VCLq-MRRscRy",
        "outputId": "edbd435b-9f27-40fe-a978-4d1f5161da18"
      },
      "execution_count": 31,
      "outputs": [
        {
          "output_type": "stream",
          "name": "stdout",
          "text": [
            "[0 0 1 1 1 0 1 0 1 0 0 0 1 0 0 1 0 1 0 0 0 1 0 0 0 0 1 0 0 0 0 1 0 0 1 0]\n"
          ]
        }
      ]
    },
    {
      "cell_type": "markdown",
      "source": [
        "Let us now check the performance of the model"
      ],
      "metadata": {
        "id": "Z98d-wd9ppCM"
      }
    },
    {
      "cell_type": "code",
      "source": [
        "f1_score_DT = f1_score(y_test_bladderInf, y_pred_DT)\n",
        "precision_score_DT = precision_score(y_pred_DT, y_test_bladderInf)\n",
        "accuracy_score_DT = accuracy_score(y_pred_DT, y_test_bladderInf)\n",
        "recall_score_DT = recall_score(y_pred_DT, y_test_bladderInf)\n",
        "confusion_matrix_bladderInf = confusion_matrix(y_test_bladderInf, y_pred_DT)"
      ],
      "metadata": {
        "id": "MfnWYWJipsNk"
      },
      "execution_count": 32,
      "outputs": []
    },
    {
      "cell_type": "code",
      "source": [
        "print(\"F1 Score for bladder inflammation:\", f1_score_DT)\n",
        "print(\"Precision Score for bladder inflammation:\", precision_score_DT)\n",
        "print(\"Accuracy Score for bladder inflammation:\", accuracy_score_DT)\n",
        "print(\"Recall Score for bladder inflammation:\", recall_score_DT)"
      ],
      "metadata": {
        "colab": {
          "base_uri": "https://localhost:8080/"
        },
        "id": "_0EuHMOWq3bh",
        "outputId": "1a39f451-b266-4928-aadd-aa170645f520"
      },
      "execution_count": 33,
      "outputs": [
        {
          "output_type": "stream",
          "name": "stdout",
          "text": [
            "F1 Score for bladder inflammation: 1.0\n",
            "Precision Score for bladder inflammation: 1.0\n",
            "Accuracy Score for bladder inflammation: 1.0\n",
            "Recall Score for bladder inflammation: 1.0\n"
          ]
        }
      ]
    },
    {
      "cell_type": "code",
      "source": [
        "print(confusion_matrix_bladderInf)"
      ],
      "metadata": {
        "colab": {
          "base_uri": "https://localhost:8080/"
        },
        "id": "aqmbbgosrEu9",
        "outputId": "708101d7-2d3a-4e12-dd2b-4b3dd799ed8c"
      },
      "execution_count": 34,
      "outputs": [
        {
          "output_type": "stream",
          "name": "stdout",
          "text": [
            "[[24  0]\n",
            " [ 0 12]]\n"
          ]
        }
      ]
    },
    {
      "cell_type": "markdown",
      "source": [
        "We can see there are 24 true positives and 12 true negatives. No patient has been classified wrongly as there are no false positives or false negatives"
      ],
      "metadata": {
        "id": "8yFnFKygrlWX"
      }
    },
    {
      "cell_type": "markdown",
      "source": [
        "Now let us perform the same steps for acute nephritises"
      ],
      "metadata": {
        "id": "z7Qg9f3Jrw5q"
      }
    },
    {
      "cell_type": "code",
      "source": [
        "X_train_neph, X_test_neph, y_train_neph, y_test_neph = train_test_split(X, Y_hasNephritises, test_size=0.3)"
      ],
      "metadata": {
        "id": "88dJNmkEr1ZJ"
      },
      "execution_count": 35,
      "outputs": []
    },
    {
      "cell_type": "code",
      "source": [
        "print(\"Train dataset:\",X_train_neph.shape)\n",
        "print(\"Test dataset:\",X_test_neph.shape)"
      ],
      "metadata": {
        "colab": {
          "base_uri": "https://localhost:8080/"
        },
        "id": "bS-BkqeRsGhp",
        "outputId": "18947d0f-8333-4780-d2df-87ec7aa8af2d"
      },
      "execution_count": 36,
      "outputs": [
        {
          "output_type": "stream",
          "name": "stdout",
          "text": [
            "Train dataset: (84, 6)\n",
            "Test dataset: (36, 6)\n"
          ]
        }
      ]
    },
    {
      "cell_type": "code",
      "source": [
        "model_DT_neph = DecisionTreeClassifier().fit(X_train_neph,y_train_neph)"
      ],
      "metadata": {
        "id": "fmJQas3FsM-E"
      },
      "execution_count": 37,
      "outputs": []
    },
    {
      "cell_type": "code",
      "source": [
        "score_DT_neph= model_DT_neph.score(X_test_neph, y_test_neph)\n",
        "print(score_DT_neph)"
      ],
      "metadata": {
        "colab": {
          "base_uri": "https://localhost:8080/"
        },
        "id": "_wwKnX4yshsB",
        "outputId": "4f9df576-d104-482e-8fde-be868a1a873d"
      },
      "execution_count": 38,
      "outputs": [
        {
          "output_type": "stream",
          "name": "stdout",
          "text": [
            "1.0\n"
          ]
        }
      ]
    },
    {
      "cell_type": "code",
      "source": [
        "y_pred_DT_neph = model_DT_neph.predict(X_test_neph)\n",
        "print(y_pred_DT_neph)"
      ],
      "metadata": {
        "colab": {
          "base_uri": "https://localhost:8080/"
        },
        "id": "x4ZZx5nFsl89",
        "outputId": "48510d33-6c98-47f4-ba9e-258ebd23ce0b"
      },
      "execution_count": 39,
      "outputs": [
        {
          "output_type": "stream",
          "name": "stdout",
          "text": [
            "[0 1 1 0 0 0 1 1 0 0 1 0 1 0 1 0 0 0 0 1 0 0 1 0 0 0 1 0 0 0 0 1 1 1 0 1]\n"
          ]
        }
      ]
    },
    {
      "cell_type": "code",
      "source": [
        "f1_score_DT_neph = f1_score(y_test_neph, y_pred_DT_neph)\n",
        "precision_score_DT_neph = precision_score(y_pred_DT_neph, y_test_neph)\n",
        "accuracy_score_DT_neph = accuracy_score(y_pred_DT_neph, y_test_neph)\n",
        "recall_score_DT_neph = recall_score(y_pred_DT_neph, y_test_neph)\n",
        "confusion_matrix_bladderInf_neph = confusion_matrix(y_test_neph, y_pred_DT_neph)"
      ],
      "metadata": {
        "id": "dOhb3yE7soTF"
      },
      "execution_count": 40,
      "outputs": []
    },
    {
      "cell_type": "code",
      "source": [
        "print(\"F1 Score for bladder inflammation:\", f1_score_DT_neph)\n",
        "print(\"Precision Score for bladder inflammation:\", precision_score_DT_neph)\n",
        "print(\"Accuracy Score for bladder inflammation:\", accuracy_score_DT_neph)\n",
        "print(\"Recall Score for bladder inflammation:\", recall_score_DT_neph)"
      ],
      "metadata": {
        "colab": {
          "base_uri": "https://localhost:8080/"
        },
        "id": "qOOBBYOPss41",
        "outputId": "08857078-0fc1-4ea5-c4f8-d407c4eab8ce"
      },
      "execution_count": 41,
      "outputs": [
        {
          "output_type": "stream",
          "name": "stdout",
          "text": [
            "F1 Score for bladder inflammation: 1.0\n",
            "Precision Score for bladder inflammation: 1.0\n",
            "Accuracy Score for bladder inflammation: 1.0\n",
            "Recall Score for bladder inflammation: 1.0\n"
          ]
        }
      ]
    },
    {
      "cell_type": "code",
      "source": [
        "print(confusion_matrix_bladderInf_neph)"
      ],
      "metadata": {
        "colab": {
          "base_uri": "https://localhost:8080/"
        },
        "id": "CaHN0rwvtStj",
        "outputId": "73d6764c-de25-4ee1-bdf6-1a77e9bb1767"
      },
      "execution_count": 42,
      "outputs": [
        {
          "output_type": "stream",
          "name": "stdout",
          "text": [
            "[[22  0]\n",
            " [ 0 14]]\n"
          ]
        }
      ]
    },
    {
      "cell_type": "markdown",
      "source": [
        "We see that the decision tree classifier predicted 22 patients as positive and 14 as negative for acute nephritises. Also the accuracy, recall and F1 score are all 100%"
      ],
      "metadata": {
        "id": "PqvLMHVBuaxg"
      }
    },
    {
      "cell_type": "markdown",
      "source": [
        "Next, we will train the data on Random Forest classifier. Like above, first we will train for Bladder inflammation and then for acute nephritises"
      ],
      "metadata": {
        "id": "zLmeYD6dtb0O"
      }
    },
    {
      "cell_type": "code",
      "source": [
        "X_train_bladderInf, X_test_bladderInf, y_train_bladderInf, y_test_bladderInf = train_test_split(X, Y_bladderInflammation, test_size=0.3)"
      ],
      "metadata": {
        "id": "wDhUZe4guxto"
      },
      "execution_count": 43,
      "outputs": []
    },
    {
      "cell_type": "code",
      "source": [
        "print(\"Train dataset:\",X_train_bladderInf.shape)\n",
        "print(\"Test dataset:\",X_test_bladderInf.shape)"
      ],
      "metadata": {
        "colab": {
          "base_uri": "https://localhost:8080/"
        },
        "id": "arcCbk65vbNU",
        "outputId": "b7bcf959-074d-4855-f685-29a29f8d24c8"
      },
      "execution_count": 44,
      "outputs": [
        {
          "output_type": "stream",
          "name": "stdout",
          "text": [
            "Train dataset: (84, 6)\n",
            "Test dataset: (36, 6)\n"
          ]
        }
      ]
    },
    {
      "cell_type": "code",
      "source": [
        "model_RC_bladderInf = RandomForestClassifier().fit(X_train_bladderInf, y_train_bladderInf)"
      ],
      "metadata": {
        "id": "MWZZpoN7trQP"
      },
      "execution_count": 45,
      "outputs": []
    },
    {
      "cell_type": "code",
      "source": [
        "score_RC_bladderInf = model_RC_bladderInf.score(X_test_bladderInf, y_test_bladderInf)\n",
        "print(score_RC_bladderInf)\n",
        "y_pred_RC_bladderInf = model_RC_bladderInf.predict(X_test_bladderInf)\n",
        "print(y_pred_RC_bladderInf)"
      ],
      "metadata": {
        "colab": {
          "base_uri": "https://localhost:8080/"
        },
        "id": "uTfb7mBMv7UZ",
        "outputId": "3b913d20-e3e0-4d4e-bada-b5f7b0ea7b6d"
      },
      "execution_count": 46,
      "outputs": [
        {
          "output_type": "stream",
          "name": "stdout",
          "text": [
            "1.0\n",
            "[1 1 0 0 0 1 0 0 0 0 0 1 1 0 1 1 0 0 0 0 1 0 0 0 0 1 1 1 0 1 1 1 0 1 1 1]\n"
          ]
        }
      ]
    },
    {
      "cell_type": "code",
      "source": [
        "f1_score_RC = f1_score(y_test_bladderInf, y_pred_RC_bladderInf)\n",
        "precision_score_RC = precision_score(y_pred_RC_bladderInf, y_test_bladderInf)\n",
        "accuracy_score_RC = accuracy_score(y_pred_RC_bladderInf, y_test_bladderInf)\n",
        "recall_score_RC = recall_score(y_pred_RC_bladderInf, y_test_bladderInf)\n",
        "confusion_matrix_bladderInf_RC = confusion_matrix(y_test_bladderInf, y_pred_RC_bladderInf)"
      ],
      "metadata": {
        "id": "Hs6nb-XWwHea"
      },
      "execution_count": 47,
      "outputs": []
    },
    {
      "cell_type": "code",
      "source": [
        "print(\"F1 Score for bladder inflammation:\", f1_score_RC)\n",
        "print(\"Precision Score for bladder inflammation:\", precision_score_RC)\n",
        "print(\"Accuracy Score for bladder inflammation:\", accuracy_score_RC)\n",
        "print(\"Recall Score for bladder inflammation:\", recall_score_RC)"
      ],
      "metadata": {
        "colab": {
          "base_uri": "https://localhost:8080/"
        },
        "id": "3IFp9LhowJ8a",
        "outputId": "7e78f7b4-d864-446c-d826-f9f95adbfec8"
      },
      "execution_count": 48,
      "outputs": [
        {
          "output_type": "stream",
          "name": "stdout",
          "text": [
            "F1 Score for bladder inflammation: 1.0\n",
            "Precision Score for bladder inflammation: 1.0\n",
            "Accuracy Score for bladder inflammation: 1.0\n",
            "Recall Score for bladder inflammation: 1.0\n"
          ]
        }
      ]
    },
    {
      "cell_type": "code",
      "source": [
        "print(confusion_matrix_bladderInf_RC)"
      ],
      "metadata": {
        "colab": {
          "base_uri": "https://localhost:8080/"
        },
        "id": "DgoHUKKAwfHM",
        "outputId": "a5625615-1f0a-478a-c1cb-a5ce2e169a7f"
      },
      "execution_count": 49,
      "outputs": [
        {
          "output_type": "stream",
          "name": "stdout",
          "text": [
            "[[19  0]\n",
            " [ 0 17]]\n"
          ]
        }
      ]
    },
    {
      "cell_type": "markdown",
      "source": [
        "We can see that random forest classifier also gives accurate predictions for bladder inflammation. Let's see how it does for acute nephritises"
      ],
      "metadata": {
        "id": "5Tl9mWNgwlu_"
      }
    },
    {
      "cell_type": "code",
      "source": [
        "X_train_neph, X_test_neph, y_train_neph, y_test_neph = train_test_split(X, Y_hasNephritises, test_size=0.3)"
      ],
      "metadata": {
        "id": "xJAvfizpxoT6"
      },
      "execution_count": 50,
      "outputs": []
    },
    {
      "cell_type": "code",
      "source": [
        "print(\"Train dataset:\",X_train_neph.shape)\n",
        "print(\"Test dataset:\",X_test_neph.shape)"
      ],
      "metadata": {
        "colab": {
          "base_uri": "https://localhost:8080/"
        },
        "id": "RJSXsGclxsdh",
        "outputId": "fbe844ee-d6fc-4172-9e71-8672d22309c9"
      },
      "execution_count": 51,
      "outputs": [
        {
          "output_type": "stream",
          "name": "stdout",
          "text": [
            "Train dataset: (84, 6)\n",
            "Test dataset: (36, 6)\n"
          ]
        }
      ]
    },
    {
      "cell_type": "code",
      "source": [
        "model_RC_neph = RandomForestClassifier().fit(X_train_neph, y_train_neph)"
      ],
      "metadata": {
        "id": "IM7kafCOxt9q"
      },
      "execution_count": 52,
      "outputs": []
    },
    {
      "cell_type": "code",
      "source": [
        "score_RC_neph = model_RC_neph.score(X_test_neph, y_test_neph)\n",
        "print(score_RC_neph)\n",
        "y_pred_RC_neph = model_RC_neph.predict(X_test_neph)\n",
        "print(y_pred_RC_neph)"
      ],
      "metadata": {
        "colab": {
          "base_uri": "https://localhost:8080/"
        },
        "id": "NYpeL2mAxve2",
        "outputId": "fd4ceca7-6859-42bc-e5c8-b3ebd350d681"
      },
      "execution_count": 53,
      "outputs": [
        {
          "output_type": "stream",
          "name": "stdout",
          "text": [
            "1.0\n",
            "[1 1 0 1 1 0 0 0 0 0 1 1 0 0 1 1 1 1 1 1 1 1 0 0 0 0 0 1 0 1 1 1 1 1 1 1]\n"
          ]
        }
      ]
    },
    {
      "cell_type": "code",
      "source": [
        "f1_score_RC_neph = f1_score(y_test_neph, y_pred_RC_neph)\n",
        "precision_score_RC_neph = precision_score(y_pred_RC_neph, y_test_neph)\n",
        "accuracy_score_RC_neph = accuracy_score(y_pred_RC_neph, y_test_neph)\n",
        "recall_score_RC_neph = recall_score(y_pred_RC_neph, y_test_neph)\n",
        "confusion_matrix_RC_neph = confusion_matrix(y_test_neph, y_pred_RC_neph)"
      ],
      "metadata": {
        "id": "LYC06pjfxwyX"
      },
      "execution_count": 54,
      "outputs": []
    },
    {
      "cell_type": "code",
      "source": [
        "print(\"F1 Score for acute nephritises:\", f1_score_RC_neph)\n",
        "print(\"Precision Score for acute nephritises:\", precision_score_RC_neph)\n",
        "print(\"Accuracy Score for acute nephritises:\", accuracy_score_RC_neph)\n",
        "print(\"Recall Score for acute nephritises:\", recall_score_RC_neph)"
      ],
      "metadata": {
        "colab": {
          "base_uri": "https://localhost:8080/"
        },
        "id": "DgtnWDvoxyDa",
        "outputId": "60222f0e-72fb-45b2-89f7-c2ba05a812b3"
      },
      "execution_count": 55,
      "outputs": [
        {
          "output_type": "stream",
          "name": "stdout",
          "text": [
            "F1 Score for acute nephritises: 1.0\n",
            "Precision Score for acute nephritises: 1.0\n",
            "Accuracy Score for acute nephritises: 1.0\n",
            "Recall Score for acute nephritises: 1.0\n"
          ]
        }
      ]
    },
    {
      "cell_type": "code",
      "source": [
        "print(confusion_matrix_RC_neph)"
      ],
      "metadata": {
        "colab": {
          "base_uri": "https://localhost:8080/"
        },
        "id": "upm-Q_f_xzyt",
        "outputId": "6af62ad7-b613-43b0-b0a1-37555f7773fd"
      },
      "execution_count": 56,
      "outputs": [
        {
          "output_type": "stream",
          "name": "stdout",
          "text": [
            "[[14  0]\n",
            " [ 0 22]]\n"
          ]
        }
      ]
    },
    {
      "cell_type": "markdown",
      "source": [
        "We can see that the random forest classifier has an accuracy of 100% for acute nephritises also apart from the other measures which also have a perfect score. Therefore we can clearly say that both the models have performed equally well with this dataset."
      ],
      "metadata": {
        "id": "yVZTag4wzzIH"
      }
    }
  ]
}